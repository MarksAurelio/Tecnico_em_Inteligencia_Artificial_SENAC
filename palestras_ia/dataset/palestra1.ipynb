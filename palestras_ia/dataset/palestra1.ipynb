{
 "cells": [
  {
   "attachments": {},
   "cell_type": "markdown",
   "metadata": {},
   "source": [
    "# Inteligência Artificial"
   ]
  },
  {
   "attachments": {},
   "cell_type": "markdown",
   "metadata": {},
   "source": [
    "- A Inteligência Artificial é a imitação da vida\n",
    "- 1950: os primeiros computadores construindo a história da IA\n",
    "- Inverno da IA: empolgação seguida por uma desilusão\n",
    "- IA baseada em lógica foi perdendo espaço para uma IA baseada em Dados e Estatística\n",
    "- Machine Learning aplicado ao comércio\n",
    "- Redes Neurais, Big Data (Cloud Computer e Databricks)\n",
    "- \"Maquina Viva\": mitologia, Grecia Antiga, China\n",
    "- XVII: dispositivos \"autômatos\"\n",
    "- Filósofos - pensamento humano pode ser simulado por símbolos\n",
    "- Alan Turing (1912-1954): teste máquina de Turing (máquina tem ou não tem inteligência similar a humana)\n",
    "- Quem você considera inteligente:\n",
    "-Linguística\n",
    "-Artística\n",
    "-Numérica\n",
    "-Sensorial\n",
    "-Espacial\n",
    "-Física\n",
    "-Reflexiva\n",
    "\"Eu sei que sou inteligente, por que eu sei que nada sei\" Sócrates"
   ]
  },
  {
   "attachments": {},
   "cell_type": "markdown",
   "metadata": {},
   "source": [
    "# Data Driven"
   ]
  },
  {
   "attachments": {},
   "cell_type": "markdown",
   "metadata": {},
   "source": [
    "* Uma empresa orientada a Dados\n",
    "* Vocês já possuem os dados, mas utilizam em uma visão Data Driven:\n",
    "* Netflix\n",
    "* Spotify\n",
    "* Wall Mart"
   ]
  },
  {
   "attachments": {},
   "cell_type": "markdown",
   "metadata": {},
   "source": [
    "# A IA no seu dia a dia"
   ]
  },
  {
   "attachments": {},
   "cell_type": "markdown",
   "metadata": {},
   "source": [
    "* Google Maps\n",
    "* Waze\n",
    "* Netflix\n",
    "* Amazon Prime\n",
    "* Disney Plus\n",
    "* HBo"
   ]
  },
  {
   "attachments": {},
   "cell_type": "markdown",
   "metadata": {},
   "source": [
    "# Google Maps"
   ]
  },
  {
   "attachments": {},
   "cell_type": "markdown",
   "metadata": {},
   "source": [
    "- Probabilidade com diferentesw rotas\n",
    "- 4 possibilidades de caminhos"
   ]
  },
  {
   "attachments": {},
   "cell_type": "markdown",
   "metadata": {},
   "source": [
    "# Filmes"
   ]
  },
  {
   "attachments": {},
   "cell_type": "markdown",
   "metadata": {},
   "source": [
    "- Entretenimento sob demanda\n",
    "- Navegação em busca de um filme"
   ]
  },
  {
   "attachments": {},
   "cell_type": "markdown",
   "metadata": {},
   "source": [
    "# DataSet Games"
   ]
  },
  {
   "attachments": {},
   "cell_type": "markdown",
   "metadata": {},
   "source": [
    "- A importância do Dataset\n",
    "- Data Driven - uma cultura orientado a dados\n",
    "- EDA: análise exploratória de dados"
   ]
  },
  {
   "cell_type": "code",
   "execution_count": 3,
   "metadata": {},
   "outputs": [
    {
     "name": "stdout",
     "output_type": "stream",
     "text": [
      "Requirement already satisfied: pandas in /Users/marksaurelio/Documents/Tecnico_em_Inteligencia_Artificial_SENAC/my_venv/lib/python3.12/site-packages (2.3.2)\n",
      "Requirement already satisfied: numpy>=1.26.0 in /Users/marksaurelio/Documents/Tecnico_em_Inteligencia_Artificial_SENAC/my_venv/lib/python3.12/site-packages (from pandas) (2.3.3)\n",
      "Requirement already satisfied: python-dateutil>=2.8.2 in /Users/marksaurelio/Documents/Tecnico_em_Inteligencia_Artificial_SENAC/my_venv/lib/python3.12/site-packages (from pandas) (2.9.0.post0)\n",
      "Requirement already satisfied: pytz>=2020.1 in /Users/marksaurelio/Documents/Tecnico_em_Inteligencia_Artificial_SENAC/my_venv/lib/python3.12/site-packages (from pandas) (2025.2)\n",
      "Requirement already satisfied: tzdata>=2022.7 in /Users/marksaurelio/Documents/Tecnico_em_Inteligencia_Artificial_SENAC/my_venv/lib/python3.12/site-packages (from pandas) (2025.2)\n",
      "Requirement already satisfied: six>=1.5 in /Users/marksaurelio/Documents/Tecnico_em_Inteligencia_Artificial_SENAC/my_venv/lib/python3.12/site-packages (from python-dateutil>=2.8.2->pandas) (1.17.0)\n"
     ]
    }
   ],
   "source": [
    "! pip install pandas"
   ]
  },
  {
   "cell_type": "code",
   "execution_count": 4,
   "metadata": {},
   "outputs": [],
   "source": [
    "# Importando o pandas\n",
    "import pandas as pd"
   ]
  },
  {
   "cell_type": "code",
   "execution_count": 5,
   "metadata": {},
   "outputs": [
    {
     "name": "stdout",
     "output_type": "stream",
     "text": [
      "Hello World!\n"
     ]
    }
   ],
   "source": [
    "print(\"Hello World!\")"
   ]
  },
  {
   "cell_type": "code",
   "execution_count": 11,
   "metadata": {},
   "outputs": [],
   "source": [
    "# DataFrame\n",
    "df = pd.read_csv ('../palestras_ia/dataset/steam-200k.csv')"
   ]
  },
  {
   "attachments": {},
   "cell_type": "markdown",
   "metadata": {},
   "source": [
    "# Dataset Filmes"
   ]
  }
 ],
 "metadata": {
  "kernelspec": {
   "display_name": "my_venv",
   "language": "python",
   "name": "python3"
  },
  "language_info": {
   "codemirror_mode": {
    "name": "ipython",
    "version": 3
   },
   "file_extension": ".py",
   "mimetype": "text/x-python",
   "name": "python",
   "nbconvert_exporter": "python",
   "pygments_lexer": "ipython3",
   "version": "3.12.4"
  },
  "orig_nbformat": 4
 },
 "nbformat": 4,
 "nbformat_minor": 2
}
